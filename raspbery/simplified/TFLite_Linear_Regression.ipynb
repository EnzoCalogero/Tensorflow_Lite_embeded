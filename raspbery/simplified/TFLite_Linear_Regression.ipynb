{
 "cells": [
  {
   "cell_type": "code",
   "execution_count": 0,
   "metadata": {
    "colab": {},
    "colab_type": "code",
    "id": "zX4Kg8DUTKWO"
   },
   "outputs": [],
   "source": [
    "#@title Licensed under the Apache License, Version 2.0 (the \"License\");\n",
    "# you may not use this file except in compliance with the License.\n",
    "# You may obtain a copy of the License at\n",
    "#\n",
    "# https://www.apache.org/licenses/LICENSE-2.0\n",
    "#\n",
    "# Unless required by applicable law or agreed to in writing, software\n",
    "# distributed under the License is distributed on an \"AS IS\" BASIS,\n",
    "# WITHOUT WARRANTIES OR CONDITIONS OF ANY KIND, either express or implied.\n",
    "# See the License for the specific language governing permissions and\n",
    "# limitations under the License."
   ]
  },
  {
   "cell_type": "markdown",
   "metadata": {
    "colab_type": "text",
    "id": "Za8-Nr5k11fh"
   },
   "source": [
    "##### Copyright 2018 The TensorFlow Authors."
   ]
  },
  {
   "cell_type": "code",
   "execution_count": null,
   "metadata": {
    "cellView": "form",
    "colab": {},
    "colab_type": "code",
    "id": "Eq10uEbw0E4l"
   },
   "outputs": [],
   "source": [
    "#@title Licensed under the Apache License, Version 2.0 (the \"License\");\n",
    "# you may not use this file except in compliance with the License.\n",
    "# You may obtain a copy of the License at\n",
    "#\n",
    "# https://www.apache.org/licenses/LICENSE-2.0\n",
    "#\n",
    "# Unless required by applicable law or agreed to in writing, software\n",
    "# distributed under the License is distributed on an \"AS IS\" BASIS,\n",
    "# WITHOUT WARRANTIES OR CONDITIONS OF ANY KIND, either express or implied.\n",
    "# See the License for the specific language governing permissions and\n",
    "# limitations under the License."
   ]
  },
  {
   "cell_type": "markdown",
   "metadata": {
    "colab_type": "text",
    "id": "UysiGN3tGQHY"
   },
   "source": [
    "# Running TFLite models"
   ]
  },
  {
   "cell_type": "markdown",
   "metadata": {
    "colab_type": "text",
    "id": "2hOrvdmswy5O"
   },
   "source": [
    "<table class=\"tfo-notebook-buttons\" align=\"left\">\n",
    "  <td>\n",
    "    <a target=\"_blank\" href=\"https://colab.research.google.com/github/lmoroney/dlaicourse/blob/master/TensorFlow%20Deployment/Course%202%20-%20TensorFlow%20Lite/Week%201/Examples/TFLite_Week1_Linear_Regression.ipynb\">\n",
    "    <img src=\"https://www.tensorflow.org/images/colab_logo_32px.png\" />\n",
    "    Run in Google Colab</a>\n",
    "  </td>\n",
    "  <td>\n",
    "    <a target=\"_blank\" href=\"https://github.com/lmoroney/dlaicourse/blob/master/TensorFlow%20Deployment/Course%202%20-%20TensorFlow%20Lite/Week%201/Examples/TFLite_Week1_Linear_Regression.ipynb\">\n",
    "    <img src=\"https://www.tensorflow.org/images/GitHub-Mark-32px.png\" />\n",
    "    View source on GitHub</a>\n",
    "  </td>\n",
    "</table>"
   ]
  },
  {
   "cell_type": "markdown",
   "metadata": {
    "colab_type": "text",
    "id": "W-VhTkyTGcaQ"
   },
   "source": [
    "## Setup"
   ]
  },
  {
   "cell_type": "code",
   "execution_count": 1,
   "metadata": {
    "colab": {},
    "colab_type": "code",
    "id": "Ll4ii2J9Fea_"
   },
   "outputs": [],
   "source": [
    "try:\n",
    "    %tensorflow_version 2.x\n",
    "except:\n",
    "    pass"
   ]
  },
  {
   "cell_type": "code",
   "execution_count": 2,
   "metadata": {
    "colab": {},
    "colab_type": "code",
    "id": "dy4BcTjBFTWx"
   },
   "outputs": [
    {
     "name": "stdout",
     "output_type": "stream",
     "text": [
      "• Using TensorFlow Version: 2.0.0\n"
     ]
    }
   ],
   "source": [
    "import pathlib\n",
    "import numpy as np\n",
    "import matplotlib.pyplot as plt\n",
    "\n",
    "import tensorflow as tf\n",
    "\n",
    "print('\\u2022 Using TensorFlow Version:', tf.__version__)"
   ]
  },
  {
   "cell_type": "markdown",
   "metadata": {
    "colab_type": "text",
    "id": "ceibQLDeGhI4"
   },
   "source": [
    "## Create a Basic Model of the Form y = mx + c"
   ]
  },
  {
   "cell_type": "code",
   "execution_count": 3,
   "metadata": {
    "colab": {},
    "colab_type": "code",
    "id": "YIBCsjQNF46Z"
   },
   "outputs": [
    {
     "name": "stdout",
     "output_type": "stream",
     "text": [
      "Train on 6 samples\n",
      "Epoch 1/200\n",
      "6/6 [==============================] - 2s 274ms/sample - loss: 9.9848\n",
      "Epoch 2/200\n",
      "6/6 [==============================] - 0s 1ms/sample - loss: 8.0662\n",
      "Epoch 3/200\n",
      "6/6 [==============================] - 0s 2ms/sample - loss: 6.5525\n",
      "Epoch 4/200\n",
      "6/6 [==============================] - 0s 2ms/sample - loss: 5.3573\n",
      "Epoch 5/200\n",
      "6/6 [==============================] - 0s 2ms/sample - loss: 4.4128\n",
      "Epoch 6/200\n",
      "6/6 [==============================] - 0s 2ms/sample - loss: 3.6657\n",
      "Epoch 7/200\n",
      "6/6 [==============================] - 0s 1ms/sample - loss: 3.0739\n",
      "Epoch 8/200\n",
      "6/6 [==============================] - 0s 1ms/sample - loss: 2.6044\n",
      "Epoch 9/200\n",
      "6/6 [==============================] - 0s 2ms/sample - loss: 2.2312\n",
      "Epoch 10/200\n",
      "6/6 [==============================] - 0s 1ms/sample - loss: 1.9339\n",
      "Epoch 11/200\n",
      "6/6 [==============================] - 0s 1ms/sample - loss: 1.6963\n",
      "Epoch 12/200\n",
      "6/6 [==============================] - 0s 1ms/sample - loss: 1.5057\n",
      "Epoch 13/200\n",
      "6/6 [==============================] - 0s 1ms/sample - loss: 1.3523\n",
      "Epoch 14/200\n",
      "6/6 [==============================] - 0s 1ms/sample - loss: 1.2282\n",
      "Epoch 15/200\n",
      "6/6 [==============================] - 0s 1ms/sample - loss: 1.1271\n",
      "Epoch 16/200\n",
      "6/6 [==============================] - 0s 1ms/sample - loss: 1.0443\n",
      "Epoch 17/200\n",
      "6/6 [==============================] - 0s 1ms/sample - loss: 0.9759\n",
      "Epoch 18/200\n",
      "6/6 [==============================] - 0s 1ms/sample - loss: 0.9190\n",
      "Epoch 19/200\n",
      "6/6 [==============================] - 0s 1ms/sample - loss: 0.8711\n",
      "Epoch 20/200\n",
      "6/6 [==============================] - 0s 1ms/sample - loss: 0.8303\n",
      "Epoch 21/200\n",
      "6/6 [==============================] - 0s 1ms/sample - loss: 0.7953\n",
      "Epoch 22/200\n",
      "6/6 [==============================] - 0s 1ms/sample - loss: 0.7648\n",
      "Epoch 23/200\n",
      "6/6 [==============================] - 0s 1ms/sample - loss: 0.7380\n",
      "Epoch 24/200\n",
      "6/6 [==============================] - 0s 1ms/sample - loss: 0.7140\n",
      "Epoch 25/200\n",
      "6/6 [==============================] - 0s 1ms/sample - loss: 0.6925\n",
      "Epoch 26/200\n",
      "6/6 [==============================] - 0s 1ms/sample - loss: 0.6728\n",
      "Epoch 27/200\n",
      "6/6 [==============================] - 0s 1ms/sample - loss: 0.6548\n",
      "Epoch 28/200\n",
      "6/6 [==============================] - 0s 1ms/sample - loss: 0.6380\n",
      "Epoch 29/200\n",
      "6/6 [==============================] - 0s 1ms/sample - loss: 0.6222\n",
      "Epoch 30/200\n",
      "6/6 [==============================] - 0s 2ms/sample - loss: 0.6074\n",
      "Epoch 31/200\n",
      "6/6 [==============================] - 0s 1ms/sample - loss: 0.5932\n",
      "Epoch 32/200\n",
      "6/6 [==============================] - 0s 1ms/sample - loss: 0.5798\n",
      "Epoch 33/200\n",
      "6/6 [==============================] - 0s 2ms/sample - loss: 0.5669\n",
      "Epoch 34/200\n",
      "6/6 [==============================] - 0s 1ms/sample - loss: 0.5544\n",
      "Epoch 35/200\n",
      "6/6 [==============================] - 0s 1ms/sample - loss: 0.5424\n",
      "Epoch 36/200\n",
      "6/6 [==============================] - 0s 1ms/sample - loss: 0.5308\n",
      "Epoch 37/200\n",
      "6/6 [==============================] - 0s 1ms/sample - loss: 0.5195\n",
      "Epoch 38/200\n",
      "6/6 [==============================] - 0s 1ms/sample - loss: 0.5085\n",
      "Epoch 39/200\n",
      "6/6 [==============================] - 0s 1ms/sample - loss: 0.4978\n",
      "Epoch 40/200\n",
      "6/6 [==============================] - 0s 1ms/sample - loss: 0.4874\n",
      "Epoch 41/200\n",
      "6/6 [==============================] - 0s 1ms/sample - loss: 0.4772\n",
      "Epoch 42/200\n",
      "6/6 [==============================] - 0s 1ms/sample - loss: 0.4673\n",
      "Epoch 43/200\n",
      "6/6 [==============================] - 0s 1ms/sample - loss: 0.4576\n",
      "Epoch 44/200\n",
      "6/6 [==============================] - 0s 1ms/sample - loss: 0.4482\n",
      "Epoch 45/200\n",
      "6/6 [==============================] - 0s 1ms/sample - loss: 0.4389\n",
      "Epoch 46/200\n",
      "6/6 [==============================] - 0s 1ms/sample - loss: 0.4298\n",
      "Epoch 47/200\n",
      "6/6 [==============================] - 0s 2ms/sample - loss: 0.4210\n",
      "Epoch 48/200\n",
      "6/6 [==============================] - 0s 1ms/sample - loss: 0.4123\n",
      "Epoch 49/200\n",
      "6/6 [==============================] - 0s 1ms/sample - loss: 0.4038\n",
      "Epoch 50/200\n",
      "6/6 [==============================] - 0s 1ms/sample - loss: 0.3955\n",
      "Epoch 51/200\n",
      "6/6 [==============================] - 0s 1ms/sample - loss: 0.3874\n",
      "Epoch 52/200\n",
      "6/6 [==============================] - 0s 1ms/sample - loss: 0.3794\n",
      "Epoch 53/200\n",
      "6/6 [==============================] - 0s 1ms/sample - loss: 0.3716\n",
      "Epoch 54/200\n",
      "6/6 [==============================] - 0s 1ms/sample - loss: 0.3640\n",
      "Epoch 55/200\n",
      "6/6 [==============================] - 0s 1ms/sample - loss: 0.3565\n",
      "Epoch 56/200\n",
      "6/6 [==============================] - 0s 1ms/sample - loss: 0.3491\n",
      "Epoch 57/200\n",
      "6/6 [==============================] - 0s 1ms/sample - loss: 0.3420\n",
      "Epoch 58/200\n",
      "6/6 [==============================] - 0s 1ms/sample - loss: 0.3349\n",
      "Epoch 59/200\n",
      "6/6 [==============================] - 0s 1ms/sample - loss: 0.3281\n",
      "Epoch 60/200\n",
      "6/6 [==============================] - 0s 1ms/sample - loss: 0.3213\n",
      "Epoch 61/200\n",
      "6/6 [==============================] - 0s 1ms/sample - loss: 0.3147\n",
      "Epoch 62/200\n",
      "6/6 [==============================] - 0s 1ms/sample - loss: 0.3083\n",
      "Epoch 63/200\n",
      "6/6 [==============================] - 0s 1ms/sample - loss: 0.3019\n",
      "Epoch 64/200\n",
      "6/6 [==============================] - 0s 1ms/sample - loss: 0.2957\n",
      "Epoch 65/200\n",
      "6/6 [==============================] - 0s 1ms/sample - loss: 0.2896\n",
      "Epoch 66/200\n",
      "6/6 [==============================] - 0s 1ms/sample - loss: 0.2837\n",
      "Epoch 67/200\n",
      "6/6 [==============================] - 0s 1ms/sample - loss: 0.2779\n",
      "Epoch 68/200\n",
      "6/6 [==============================] - 0s 1ms/sample - loss: 0.2722\n",
      "Epoch 69/200\n",
      "6/6 [==============================] - 0s 2ms/sample - loss: 0.2666\n",
      "Epoch 70/200\n",
      "6/6 [==============================] - 0s 1ms/sample - loss: 0.2611\n",
      "Epoch 71/200\n",
      "6/6 [==============================] - 0s 1ms/sample - loss: 0.2557\n",
      "Epoch 72/200\n",
      "6/6 [==============================] - 0s 1ms/sample - loss: 0.2505\n",
      "Epoch 73/200\n",
      "6/6 [==============================] - 0s 1ms/sample - loss: 0.2453\n",
      "Epoch 74/200\n",
      "6/6 [==============================] - 0s 2ms/sample - loss: 0.2403\n",
      "Epoch 75/200\n",
      "6/6 [==============================] - 0s 1ms/sample - loss: 0.2354\n",
      "Epoch 76/200\n",
      "6/6 [==============================] - 0s 1ms/sample - loss: 0.2305\n",
      "Epoch 77/200\n",
      "6/6 [==============================] - 0s 1ms/sample - loss: 0.2258\n",
      "Epoch 78/200\n",
      "6/6 [==============================] - 0s 1ms/sample - loss: 0.2211\n",
      "Epoch 79/200\n",
      "6/6 [==============================] - 0s 1ms/sample - loss: 0.2166\n",
      "Epoch 80/200\n",
      "6/6 [==============================] - 0s 1ms/sample - loss: 0.2122\n",
      "Epoch 81/200\n",
      "6/6 [==============================] - 0s 1ms/sample - loss: 0.2078\n",
      "Epoch 82/200\n",
      "6/6 [==============================] - 0s 1ms/sample - loss: 0.2035\n",
      "Epoch 83/200\n",
      "6/6 [==============================] - 0s 1ms/sample - loss: 0.1994\n",
      "Epoch 84/200\n",
      "6/6 [==============================] - 0s 1ms/sample - loss: 0.1953\n",
      "Epoch 85/200\n",
      "6/6 [==============================] - 0s 1ms/sample - loss: 0.1912\n",
      "Epoch 86/200\n",
      "6/6 [==============================] - 0s 1ms/sample - loss: 0.1873\n",
      "Epoch 87/200\n",
      "6/6 [==============================] - 0s 2ms/sample - loss: 0.1835\n",
      "Epoch 88/200\n",
      "6/6 [==============================] - 0s 1ms/sample - loss: 0.1797\n",
      "Epoch 89/200\n",
      "6/6 [==============================] - 0s 1ms/sample - loss: 0.1760\n",
      "Epoch 90/200\n",
      "6/6 [==============================] - 0s 1ms/sample - loss: 0.1724\n",
      "Epoch 91/200\n",
      "6/6 [==============================] - 0s 1ms/sample - loss: 0.1689\n",
      "Epoch 92/200\n",
      "6/6 [==============================] - 0s 1ms/sample - loss: 0.1654\n",
      "Epoch 93/200\n",
      "6/6 [==============================] - 0s 1ms/sample - loss: 0.1620\n",
      "Epoch 94/200\n",
      "6/6 [==============================] - 0s 1ms/sample - loss: 0.1587\n",
      "Epoch 95/200\n",
      "6/6 [==============================] - 0s 1ms/sample - loss: 0.1554\n",
      "Epoch 96/200\n",
      "6/6 [==============================] - 0s 2ms/sample - loss: 0.1522\n",
      "Epoch 97/200\n",
      "6/6 [==============================] - 0s 1ms/sample - loss: 0.1491\n",
      "Epoch 98/200\n",
      "6/6 [==============================] - 0s 2ms/sample - loss: 0.1460\n",
      "Epoch 99/200\n",
      "6/6 [==============================] - 0s 2ms/sample - loss: 0.1430\n",
      "Epoch 100/200\n",
      "6/6 [==============================] - 0s 1ms/sample - loss: 0.1401\n",
      "Epoch 101/200\n",
      "6/6 [==============================] - 0s 1ms/sample - loss: 0.1372\n"
     ]
    },
    {
     "name": "stdout",
     "output_type": "stream",
     "text": [
      "Epoch 102/200\n",
      "6/6 [==============================] - 0s 2ms/sample - loss: 0.1344\n",
      "Epoch 103/200\n",
      "6/6 [==============================] - 0s 1ms/sample - loss: 0.1316\n",
      "Epoch 104/200\n",
      "6/6 [==============================] - 0s 1ms/sample - loss: 0.1289\n",
      "Epoch 105/200\n",
      "6/6 [==============================] - 0s 1ms/sample - loss: 0.1263\n",
      "Epoch 106/200\n",
      "6/6 [==============================] - 0s 1ms/sample - loss: 0.1237\n",
      "Epoch 107/200\n",
      "6/6 [==============================] - 0s 1ms/sample - loss: 0.1211\n",
      "Epoch 108/200\n",
      "6/6 [==============================] - 0s 1ms/sample - loss: 0.1187\n",
      "Epoch 109/200\n",
      "6/6 [==============================] - 0s 1ms/sample - loss: 0.1162\n",
      "Epoch 110/200\n",
      "6/6 [==============================] - 0s 1ms/sample - loss: 0.1138\n",
      "Epoch 111/200\n",
      "6/6 [==============================] - 0s 1ms/sample - loss: 0.1115\n",
      "Epoch 112/200\n",
      "6/6 [==============================] - 0s 1ms/sample - loss: 0.1092\n",
      "Epoch 113/200\n",
      "6/6 [==============================] - 0s 1ms/sample - loss: 0.1070\n",
      "Epoch 114/200\n",
      "6/6 [==============================] - 0s 1ms/sample - loss: 0.1048\n",
      "Epoch 115/200\n",
      "6/6 [==============================] - 0s 1ms/sample - loss: 0.1026\n",
      "Epoch 116/200\n",
      "6/6 [==============================] - 0s 1ms/sample - loss: 0.1005\n",
      "Epoch 117/200\n",
      "6/6 [==============================] - 0s 1ms/sample - loss: 0.0984\n",
      "Epoch 118/200\n",
      "6/6 [==============================] - 0s 1ms/sample - loss: 0.0964\n",
      "Epoch 119/200\n",
      "6/6 [==============================] - 0s 1ms/sample - loss: 0.0944\n",
      "Epoch 120/200\n",
      "6/6 [==============================] - 0s 1ms/sample - loss: 0.0925\n",
      "Epoch 121/200\n",
      "6/6 [==============================] - 0s 1ms/sample - loss: 0.0906\n",
      "Epoch 122/200\n",
      "6/6 [==============================] - 0s 1ms/sample - loss: 0.0887\n",
      "Epoch 123/200\n",
      "6/6 [==============================] - 0s 1ms/sample - loss: 0.0869\n",
      "Epoch 124/200\n",
      "6/6 [==============================] - 0s 1ms/sample - loss: 0.0851\n",
      "Epoch 125/200\n",
      "6/6 [==============================] - 0s 1ms/sample - loss: 0.0834\n",
      "Epoch 126/200\n",
      "6/6 [==============================] - 0s 2ms/sample - loss: 0.0817\n",
      "Epoch 127/200\n",
      "6/6 [==============================] - 0s 1ms/sample - loss: 0.0800\n",
      "Epoch 128/200\n",
      "6/6 [==============================] - 0s 1ms/sample - loss: 0.0783\n",
      "Epoch 129/200\n",
      "6/6 [==============================] - 0s 1ms/sample - loss: 0.0767\n",
      "Epoch 130/200\n",
      "6/6 [==============================] - 0s 1ms/sample - loss: 0.0752\n",
      "Epoch 131/200\n",
      "6/6 [==============================] - 0s 1ms/sample - loss: 0.0736\n",
      "Epoch 132/200\n",
      "6/6 [==============================] - 0s 1ms/sample - loss: 0.0721\n",
      "Epoch 133/200\n",
      "6/6 [==============================] - 0s 1ms/sample - loss: 0.0706\n",
      "Epoch 134/200\n",
      "6/6 [==============================] - 0s 1ms/sample - loss: 0.0692\n",
      "Epoch 135/200\n",
      "6/6 [==============================] - 0s 1ms/sample - loss: 0.0678\n",
      "Epoch 136/200\n",
      "6/6 [==============================] - 0s 1ms/sample - loss: 0.0664\n",
      "Epoch 137/200\n",
      "6/6 [==============================] - 0s 1ms/sample - loss: 0.0650\n",
      "Epoch 138/200\n",
      "6/6 [==============================] - 0s 1ms/sample - loss: 0.0637\n",
      "Epoch 139/200\n",
      "6/6 [==============================] - 0s 1ms/sample - loss: 0.0624\n",
      "Epoch 140/200\n",
      "6/6 [==============================] - 0s 1ms/sample - loss: 0.0611\n",
      "Epoch 141/200\n",
      "6/6 [==============================] - 0s 1ms/sample - loss: 0.0598\n",
      "Epoch 142/200\n",
      "6/6 [==============================] - 0s 1ms/sample - loss: 0.0586\n",
      "Epoch 143/200\n",
      "6/6 [==============================] - 0s 1ms/sample - loss: 0.0574\n",
      "Epoch 144/200\n",
      "6/6 [==============================] - 0s 1ms/sample - loss: 0.0562\n",
      "Epoch 145/200\n",
      "6/6 [==============================] - 0s 1ms/sample - loss: 0.0551\n",
      "Epoch 146/200\n",
      "6/6 [==============================] - 0s 1ms/sample - loss: 0.0539\n",
      "Epoch 147/200\n",
      "6/6 [==============================] - 0s 1ms/sample - loss: 0.0528\n",
      "Epoch 148/200\n",
      "6/6 [==============================] - 0s 1ms/sample - loss: 0.0517\n",
      "Epoch 149/200\n",
      "6/6 [==============================] - 0s 1ms/sample - loss: 0.0507\n",
      "Epoch 150/200\n",
      "6/6 [==============================] - 0s 1ms/sample - loss: 0.0496\n",
      "Epoch 151/200\n",
      "6/6 [==============================] - 0s 1ms/sample - loss: 0.0486\n",
      "Epoch 152/200\n",
      "6/6 [==============================] - 0s 1ms/sample - loss: 0.0476\n",
      "Epoch 153/200\n",
      "6/6 [==============================] - 0s 1ms/sample - loss: 0.0466\n",
      "Epoch 154/200\n",
      "6/6 [==============================] - 0s 1ms/sample - loss: 0.0457\n",
      "Epoch 155/200\n",
      "6/6 [==============================] - 0s 1ms/sample - loss: 0.0447\n",
      "Epoch 156/200\n",
      "6/6 [==============================] - 0s 1ms/sample - loss: 0.0438\n",
      "Epoch 157/200\n",
      "6/6 [==============================] - 0s 1ms/sample - loss: 0.0429\n",
      "Epoch 158/200\n",
      "6/6 [==============================] - 0s 1ms/sample - loss: 0.0420\n",
      "Epoch 159/200\n",
      "6/6 [==============================] - 0s 1ms/sample - loss: 0.0412\n",
      "Epoch 160/200\n",
      "6/6 [==============================] - 0s 1ms/sample - loss: 0.0403\n",
      "Epoch 161/200\n",
      "6/6 [==============================] - 0s 1ms/sample - loss: 0.0395\n",
      "Epoch 162/200\n",
      "6/6 [==============================] - 0s 1ms/sample - loss: 0.0387\n",
      "Epoch 163/200\n",
      "6/6 [==============================] - 0s 1ms/sample - loss: 0.0379\n",
      "Epoch 164/200\n",
      "6/6 [==============================] - 0s 1ms/sample - loss: 0.0371\n",
      "Epoch 165/200\n",
      "6/6 [==============================] - 0s 1ms/sample - loss: 0.0364\n",
      "Epoch 166/200\n",
      "6/6 [==============================] - 0s 1ms/sample - loss: 0.0356\n",
      "Epoch 167/200\n",
      "6/6 [==============================] - 0s 1ms/sample - loss: 0.0349\n",
      "Epoch 168/200\n",
      "6/6 [==============================] - 0s 1ms/sample - loss: 0.0342\n",
      "Epoch 169/200\n",
      "6/6 [==============================] - 0s 1ms/sample - loss: 0.0335\n",
      "Epoch 170/200\n",
      "6/6 [==============================] - 0s 1ms/sample - loss: 0.0328\n",
      "Epoch 171/200\n",
      "6/6 [==============================] - 0s 1ms/sample - loss: 0.0321\n",
      "Epoch 172/200\n",
      "6/6 [==============================] - 0s 1ms/sample - loss: 0.0314\n",
      "Epoch 173/200\n",
      "6/6 [==============================] - 0s 1ms/sample - loss: 0.0308\n",
      "Epoch 174/200\n",
      "6/6 [==============================] - 0s 1ms/sample - loss: 0.0302\n",
      "Epoch 175/200\n",
      "6/6 [==============================] - 0s 1ms/sample - loss: 0.0295\n",
      "Epoch 176/200\n",
      "6/6 [==============================] - 0s 1ms/sample - loss: 0.0289\n",
      "Epoch 177/200\n",
      "6/6 [==============================] - 0s 1ms/sample - loss: 0.0283\n",
      "Epoch 178/200\n",
      "6/6 [==============================] - 0s 1ms/sample - loss: 0.0278\n",
      "Epoch 179/200\n",
      "6/6 [==============================] - 0s 1ms/sample - loss: 0.0272\n",
      "Epoch 180/200\n",
      "6/6 [==============================] - 0s 1ms/sample - loss: 0.0266\n",
      "Epoch 181/200\n",
      "6/6 [==============================] - 0s 1ms/sample - loss: 0.0261\n",
      "Epoch 182/200\n",
      "6/6 [==============================] - 0s 1ms/sample - loss: 0.0255\n",
      "Epoch 183/200\n",
      "6/6 [==============================] - 0s 1ms/sample - loss: 0.0250\n",
      "Epoch 184/200\n",
      "6/6 [==============================] - 0s 1ms/sample - loss: 0.0245\n",
      "Epoch 185/200\n",
      "6/6 [==============================] - 0s 2ms/sample - loss: 0.0240\n",
      "Epoch 186/200\n",
      "6/6 [==============================] - 0s 1ms/sample - loss: 0.0235\n",
      "Epoch 187/200\n",
      "6/6 [==============================] - 0s 1ms/sample - loss: 0.0230\n",
      "Epoch 188/200\n",
      "6/6 [==============================] - 0s 1ms/sample - loss: 0.0226\n",
      "Epoch 189/200\n",
      "6/6 [==============================] - 0s 1ms/sample - loss: 0.0221\n",
      "Epoch 190/200\n",
      "6/6 [==============================] - 0s 1ms/sample - loss: 0.0216\n",
      "Epoch 191/200\n",
      "6/6 [==============================] - 0s 2ms/sample - loss: 0.0212\n",
      "Epoch 192/200\n",
      "6/6 [==============================] - 0s 1ms/sample - loss: 0.0208\n",
      "Epoch 193/200\n",
      "6/6 [==============================] - 0s 1ms/sample - loss: 0.0203\n",
      "Epoch 194/200\n",
      "6/6 [==============================] - 0s 1ms/sample - loss: 0.0199\n",
      "Epoch 195/200\n",
      "6/6 [==============================] - 0s 1ms/sample - loss: 0.0195\n",
      "Epoch 196/200\n",
      "6/6 [==============================] - 0s 1ms/sample - loss: 0.0191\n",
      "Epoch 197/200\n",
      "6/6 [==============================] - 0s 1ms/sample - loss: 0.0187\n",
      "Epoch 198/200\n",
      "6/6 [==============================] - 0s 1ms/sample - loss: 0.0183\n",
      "Epoch 199/200\n",
      "6/6 [==============================] - 0s 1ms/sample - loss: 0.0179\n",
      "Epoch 200/200\n",
      "6/6 [==============================] - 0s 1ms/sample - loss: 0.0176\n"
     ]
    },
    {
     "data": {
      "text/plain": [
       "<tensorflow.python.keras.callbacks.History at 0x1d060e80b38>"
      ]
     },
     "execution_count": 3,
     "metadata": {},
     "output_type": "execute_result"
    }
   ],
   "source": [
    "# Create a simple Keras model.\n",
    "x = [-1, 0, 1, 2, 3, 4]\n",
    "y = [-3, -1, 1, 3, 5, 7]\n",
    "\n",
    "model = tf.keras.models.Sequential([\n",
    "        tf.keras.layers.Dense(units=1, input_shape=[1])\n",
    "])\n",
    "\n",
    "model.compile(optimizer='sgd',\n",
    "              loss='mean_squared_error')\n",
    "\n",
    "model.fit(x, y, epochs=200)"
   ]
  },
  {
   "cell_type": "markdown",
   "metadata": {
    "colab_type": "text",
    "id": "EjsB-QICGt6L"
   },
   "source": [
    "## Generate a SavedModel"
   ]
  },
  {
   "cell_type": "code",
   "execution_count": 7,
   "metadata": {},
   "outputs": [
    {
     "name": "stdout",
     "output_type": "stream",
     "text": [
      " Volume in drive C is Windows-SSD\n",
      " Volume Serial Number is 36BC-8C76\n",
      "\n",
      " Directory of c:\\gits_folders\\deeplearning.ai\\tensorlite\\dlaicourse\\TensorFlow Deployment\\Course 2 - TensorFlow Lite\\Week 1\\Examples\n",
      "\n",
      "30/11/2020  21:57    <DIR>          .\n",
      "30/11/2020  21:57    <DIR>          ..\n",
      "30/11/2020  21:56    <DIR>          .ipynb_checkpoints\n",
      "30/11/2020  21:57    <DIR>          saved_model\n",
      "13/08/2020  16:09            10,908 TFLite_Week1_Linear_Regression.ipynb\n",
      "13/08/2020  16:09            30,393 TFLite_Week1_Transfer_Learning.ipynb\n",
      "               2 File(s)         41,301 bytes\n",
      "               4 Dir(s)  232,104,173,568 bytes free\n"
     ]
    }
   ],
   "source": [
    "!dir"
   ]
  },
  {
   "cell_type": "code",
   "execution_count": 8,
   "metadata": {
    "colab": {},
    "colab_type": "code",
    "id": "a9xcbK7QHOfm"
   },
   "outputs": [
    {
     "name": "stdout",
     "output_type": "stream",
     "text": [
      "INFO:tensorflow:Assets written to: saved_model\\assets\n"
     ]
    }
   ],
   "source": [
    "export_dir = 'saved_model'\n",
    "tf.saved_model.save(model, export_dir)"
   ]
  },
  {
   "cell_type": "markdown",
   "metadata": {
    "colab_type": "text",
    "id": "RRtsNwkiGxcO"
   },
   "source": [
    "## Convert the SavedModel to TFLite"
   ]
  },
  {
   "cell_type": "code",
   "execution_count": 9,
   "metadata": {
    "colab": {},
    "colab_type": "code",
    "id": "TtM8yKTVTpD3"
   },
   "outputs": [],
   "source": [
    "# Convert the model.\n",
    "converter = tf.lite.TFLiteConverter.from_saved_model(export_dir)\n",
    "tflite_model = converter.convert()"
   ]
  },
  {
   "cell_type": "code",
   "execution_count": 10,
   "metadata": {
    "colab": {},
    "colab_type": "code",
    "id": "4idYulcNHTdO"
   },
   "outputs": [
    {
     "data": {
      "text/plain": [
       "780"
      ]
     },
     "execution_count": 10,
     "metadata": {},
     "output_type": "execute_result"
    }
   ],
   "source": [
    "tflite_model_file = pathlib.Path('model.tflite')\n",
    "tflite_model_file.write_bytes(tflite_model)"
   ]
  },
  {
   "cell_type": "markdown",
   "metadata": {
    "colab_type": "text",
    "id": "HgGvp2yBG25Q"
   },
   "source": [
    "## Initialize the TFLite Interpreter To Try It Out"
   ]
  },
  {
   "cell_type": "code",
   "execution_count": 11,
   "metadata": {
    "colab": {},
    "colab_type": "code",
    "id": "DOt94wIWF8m7"
   },
   "outputs": [],
   "source": [
    "# Load TFLite model and allocate tensors.\n",
    "interpreter = tf.lite.Interpreter(model_content=tflite_model)\n",
    "interpreter.allocate_tensors()\n",
    "\n",
    "# Get input and output tensors.\n",
    "input_details = interpreter.get_input_details()\n",
    "output_details = interpreter.get_output_details()"
   ]
  },
  {
   "cell_type": "code",
   "execution_count": 12,
   "metadata": {
    "colab": {},
    "colab_type": "code",
    "id": "JGYkEK08F8qK"
   },
   "outputs": [],
   "source": [
    "# Test the TensorFlow Lite model on random input data.\n",
    "input_shape = input_details[0]['shape']\n",
    "inputs, outputs = [], []\n",
    "for _ in range(100):\n",
    "    input_data = np.array(np.random.random_sample(input_shape), dtype=np.float32)\n",
    "    interpreter.set_tensor(input_details[0]['index'], input_data)\n",
    "    \n",
    "    interpreter.invoke()\n",
    "    tflite_results = interpreter.get_tensor(output_details[0]['index'])\n",
    "    \n",
    "    # Test the TensorFlow model on random input data.\n",
    "    tf_results = model(tf.constant(input_data))\n",
    "    output_data = np.array(tf_results)\n",
    "    \n",
    "    inputs.append(input_data[0][0])\n",
    "    outputs.append(output_data[0][0])"
   ]
  },
  {
   "cell_type": "markdown",
   "metadata": {
    "colab_type": "text",
    "id": "t1gQGH1KWAgW"
   },
   "source": [
    "## Visualize the Model"
   ]
  },
  {
   "cell_type": "code",
   "execution_count": 13,
   "metadata": {
    "colab": {},
    "colab_type": "code",
    "id": "ccvQ1mEJVrqo"
   },
   "outputs": [
    {
     "data": {
      "image/png": "[encoded data removed]",
      "text/plain": [
       "<Figure size 432x288 with 1 Axes>"
      ]
     },
     "metadata": {
      "needs_background": "light"
     },
     "output_type": "display_data"
    }
   ],
   "source": [
    "%matplotlib inline\n",
    "\n",
    "plt.plot(inputs, outputs, 'r')\n",
    "plt.show()"
   ]
  },
  {
   "cell_type": "markdown",
   "metadata": {
    "colab_type": "text",
    "id": "WbugMH6yKvtd"
   },
   "source": [
    "## Download the TFLite Model File\n",
    "\n",
    "If you are running this notebook in a Colab, you can run the cell below to download the tflite model to your local disk. \n",
    "\n",
    "**Note**: If the file does not download when you run the cell, try running the cell a second time."
   ]
  },
  {
   "cell_type": "code",
   "execution_count": null,
   "metadata": {
    "colab": {},
    "colab_type": "code",
    "id": "FOAIMETeJmkc"
   },
   "outputs": [],
   "source": [
    "try:\n",
    "    from google.colab import files\n",
    "    files.download(tflite_model_file)\n",
    "except:\n",
    "    pass"
   ]
  }
 ],
 "metadata": {
  "accelerator": "GPU",
  "colab": {
   "collapsed_sections": [],
   "name": "TFLite_Week1_Linear_Regression.ipynb",
   "private_outputs": true,
   "provenance": [],
   "toc_visible": true
  },
  "kernelspec": {
   "display_name": "Python 3",
   "language": "python",
   "name": "python3"
  },
  "language_info": {
   "codemirror_mode": {
    "name": "ipython",
    "version": 3
   },
   "file_extension": ".py",
   "mimetype": "text/x-python",
   "name": "python",
   "nbconvert_exporter": "python",
   "pygments_lexer": "ipython3",
   "version": "3.7.3"
  }
 },
 "nbformat": 4,
 "nbformat_minor": 1
}
