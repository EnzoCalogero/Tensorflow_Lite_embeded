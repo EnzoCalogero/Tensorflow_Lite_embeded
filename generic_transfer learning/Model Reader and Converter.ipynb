{
 "cells": [
  {
   "cell_type": "markdown",
   "metadata": {},
   "source": [
    "### From CLI Run the Command... \n",
    "    tensorflowjs_wizard"
   ]
  },
  {
   "cell_type": "code",
   "execution_count": 2,
   "metadata": {},
   "outputs": [],
   "source": [
    "import os\n",
    "from tensorflow import keras\n",
    "import tensorflow as tf\n",
    "\n"
   ]
  },
  {
   "cell_type": "code",
   "execution_count": 3,
   "metadata": {},
   "outputs": [
    {
     "name": "stdout",
     "output_type": "stream",
     "text": [
      " Volume in drive C is Windows-SSD\n",
      " Volume Serial Number is 36BC-8C76\n",
      "\n",
      " Directory of c:\\gits_folders\\Tensorflow_Lite_embeded\\generic_transfer learning\n",
      "\n",
      "21/12/2020  22:04    <DIR>          .\n",
      "21/12/2020  22:04    <DIR>          ..\n",
      "20/12/2020  23:25    <DIR>          .ipynb_checkpoints\n",
      "07/12/2020  22:18        68,606,236 cats_and_dogs_filtered.zip\n",
      "20/12/2020  19:26        20,074,212 converted_model.tflite\n",
      "20/12/2020  19:18         2,438,856 images.ipynb\n",
      "07/12/2020  21:55        87,910,968 inception_v3_weights_tf_dim_ordering_tf_kernels_notop.h5\n",
      "21/12/2020  22:04             7,285 Model Reader and Converter.ipynb\n",
      "21/12/2020  00:34       344,860,928 one_two.h5\n",
      "21/12/2020  22:04           940,547 One_two_treee Model.ipynb\n",
      "13/08/2020  16:09             2,105 simplified_model_for rasberry.py\n",
      "08/12/2020  23:53         1,030,909 Transfer_test.ipynb\n",
      "               9 File(s)    525,872,046 bytes\n",
      "               3 Dir(s)  206,215,680,000 bytes free\n"
     ]
    }
   ],
   "source": [
    "!dir"
   ]
  },
  {
   "cell_type": "code",
   "execution_count": 4,
   "metadata": {},
   "outputs": [],
   "source": [
    "#loaded = keras.models.load_model(\"one_two.h5\")"
   ]
  },
  {
   "cell_type": "code",
   "execution_count": 8,
   "metadata": {},
   "outputs": [],
   "source": [
    "#load model from a Sav emodel...\n",
    "export_dir = 'c:\\\\giulio'\n",
    "export_dir = 'c:\\\\giulio\\\\model01'\n",
    "loaded = tf.saved_model.load(export_dir)"
   ]
  },
  {
   "cell_type": "code",
   "execution_count": 9,
   "metadata": {},
   "outputs": [
    {
     "data": {
      "text/plain": [
       "<tensorflow.python.saved_model.load.Loader._recreate_base_user_object.<locals>._UserObject at 0x1ea8ee8f048>"
      ]
     },
     "execution_count": 9,
     "metadata": {},
     "output_type": "execute_result"
    }
   ],
   "source": [
    "loaded"
   ]
  },
  {
   "cell_type": "code",
   "execution_count": 10,
   "metadata": {},
   "outputs": [
    {
     "name": "stdout",
     "output_type": "stream",
     "text": [
      "['serving_default']\n",
      "((), {'input_3': TensorSpec(shape=(None, 150, 150, 3), dtype=tf.float32, name='input_3')})\n",
      "{'dense_8': TensorSpec(shape=(None, 3), dtype=tf.float32, name='dense_8')}\n"
     ]
    }
   ],
   "source": [
    "print(list(loaded.signatures.keys()))\n",
    "infer = loaded.signatures[\"serving_default\"]\n",
    "print(infer.structured_input_signature)\n",
    "print(infer.structured_outputs)"
   ]
  },
  {
   "cell_type": "code",
   "execution_count": 11,
   "metadata": {},
   "outputs": [],
   "source": [
    "converter = tf.lite.TFLiteConverter.from_saved_model(export_dir)\n",
    "tflite_model = converter.convert()"
   ]
  },
  {
   "cell_type": "code",
   "execution_count": 12,
   "metadata": {},
   "outputs": [],
   "source": [
    "tflite_model_file = 'model01.tflite'\n",
    "\n",
    "with open(tflite_model_file, \"wb\") as f:\n",
    "    f.write(tflite_model)"
   ]
  },
  {
   "cell_type": "code",
   "execution_count": 13,
   "metadata": {},
   "outputs": [
    {
     "name": "stdout",
     "output_type": "stream",
     "text": [
      " Volume in drive C is Windows-SSD\n",
      " Volume Serial Number is 36BC-8C76\n",
      "\n",
      " Directory of c:\\gits_folders\\Tensorflow_Lite_embeded\\generic_transfer learning\n",
      "\n",
      "21/12/2020  22:17    <DIR>          .\n",
      "21/12/2020  22:17    <DIR>          ..\n",
      "20/12/2020  23:25    <DIR>          .ipynb_checkpoints\n",
      "07/12/2020  22:18        68,606,236 cats_and_dogs_filtered.zip\n",
      "20/12/2020  19:26        20,074,212 converted_model.tflite\n",
      "20/12/2020  19:18         2,438,856 images.ipynb\n",
      "07/12/2020  21:55        87,910,968 inception_v3_weights_tf_dim_ordering_tf_kernels_notop.h5\n",
      "21/12/2020  22:16             4,389 Model Reader and Converter.ipynb\n",
      "21/12/2020  22:17       190,018,860 model01.tflite\n",
      "21/12/2020  00:34       344,860,928 one_two.h5\n",
      "21/12/2020  22:16           978,252 One_two_treee Model.ipynb\n",
      "13/08/2020  16:09             2,105 simplified_model_for rasberry.py\n",
      "08/12/2020  23:53         1,030,909 Transfer_test.ipynb\n",
      "              10 File(s)    715,925,715 bytes\n",
      "               3 Dir(s)  204,013,953,024 bytes free\n"
     ]
    }
   ],
   "source": [
    "! dir"
   ]
  },
  {
   "cell_type": "code",
   "execution_count": null,
   "metadata": {},
   "outputs": [],
   "source": []
  }
 ],
 "metadata": {
  "kernelspec": {
   "display_name": "Python 3",
   "language": "python",
   "name": "python3"
  },
  "language_info": {
   "codemirror_mode": {
    "name": "ipython",
    "version": 3
   },
   "file_extension": ".py",
   "mimetype": "text/x-python",
   "name": "python",
   "nbconvert_exporter": "python",
   "pygments_lexer": "ipython3",
   "version": "3.7.3"
  }
 },
 "nbformat": 4,
 "nbformat_minor": 2
}
